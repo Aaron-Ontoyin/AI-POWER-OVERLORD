{
 "cells": [
  {
   "cell_type": "code",
   "execution_count": null,
   "metadata": {},
   "outputs": [],
   "source": [
    "{\n",
    "    \"step 1\": {\n",
    "        \"question\": \"Has the founder previously founded or co-founded a startup that raised more than $10M?\",\n",
    "        \"answer\": \"No\",\n",
    "        \"train_split\": {\"failed_to_success\": [700, 700], \"success_fraction\": 0.5},\n",
    "        \"test_split\": {\n",
    "            \"failed_to_success\": [8115, 273],\n",
    "            \"success_fraction\": 0.032546494992846925,\n",
    "        },\n",
    "    },\n",
    "    \"step 2\": {\n",
    "        \"question\": \"Did the founder study in a top 20 ranked university based on QS World University Rankings 2023?\",\n",
    "        \"answer\": \"No\",\n",
    "        \"train_split\": {\"failed_to_success\": [676, 574], \"success_fraction\": 0.4592},\n",
    "        \"test_split\": {\n",
    "            \"failed_to_success\": [7800, 209],\n",
    "            \"success_fraction\": 0.026095642402297416,\n",
    "        },\n",
    "    },\n",
    "    \"terminal\": {\n",
    "        \"train_split\": {\n",
    "            \"failed_to_success\": [458, 282],\n",
    "            \"success_fraction\": 0.3810810810810811,\n",
    "        },\n",
    "        \"test_split\": {\n",
    "            \"failed_to_success\": [5352, 101],\n",
    "            \"success_fraction\": 0.018521914542453694,\n",
    "        },\n",
    "    },\n",
    "    \"success_prediction\": false,\n",
    "}"
   ]
  },
  {
   "cell_type": "code",
   "execution_count": null,
   "metadata": {},
   "outputs": [],
   "source": [
    "htmlstr = \"\"\"\n",
    "\n",
    "\"\"\""
   ]
  },
  {
   "cell_type": "code",
   "execution_count": null,
   "metadata": {},
   "outputs": [],
   "source": []
  }
 ],
 "metadata": {
  "kernelspec": {
   "display_name": "venv",
   "language": "python",
   "name": "python3"
  },
  "language_info": {
   "name": "python",
   "version": "3.13.1"
  }
 },
 "nbformat": 4,
 "nbformat_minor": 2
}
